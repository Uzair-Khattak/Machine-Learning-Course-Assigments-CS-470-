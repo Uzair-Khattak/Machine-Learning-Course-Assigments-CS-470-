{
 "cells": [
  {
   "cell_type": "code",
   "execution_count": 1,
   "metadata": {
    "colab": {
     "base_uri": "https://localhost:8080/",
     "height": 51
    },
    "colab_type": "code",
    "id": "c2VC4pApy8YK",
    "outputId": "f912ed65-550f-42f9-f351-31baa2790d83"
   },
   "outputs": [
    {
     "name": "stdout",
     "output_type": "stream",
     "text": [
      "Drive already mounted at /content/drive/; to attempt to forcibly remount, call drive.mount(\"/content/drive/\", force_remount=True).\n"
     ]
    },
    {
     "data": {
      "text/plain": [
       "(50, 3072)"
      ]
     },
     "execution_count": 1,
     "metadata": {
      "tags": []
     },
     "output_type": "execute_result"
    }
   ],
   "source": [
    "#Enter your path of dataset from google drive  \n",
    "import scipy.io as sio\n",
    "from matplotlib import pyplot as plt\n",
    "import numpy as np \n",
    "from scipy import misc\n",
    "import cv2\n",
    "from math import sqrt\n",
    "from numpy import ndarray\n",
    "\n",
    "GOOGLE_COLAB = True\n",
    "\n",
    "path = \"\"\n",
    "if GOOGLE_COLAB:\n",
    "    from google.colab import drive, files\n",
    "    drive.mount('/content/drive/')\n",
    "    path = \"/content/drive/My Drive/\"\n",
    "\n",
    "dataset = path + \"data.mat\" \n",
    "\n",
    "#Enter path of your test image\n",
    "test_image=path+\"uu.jpg\"\n",
    "mat_contents = sio.loadmat(dataset)\n",
    "mat_contents\n",
    "images = mat_contents['images']\n",
    "label = mat_contents['C']\n",
    "images.shape\n"
   ]
  },
  {
   "cell_type": "code",
   "execution_count": 0,
   "metadata": {
    "colab": {},
    "colab_type": "code",
    "id": "hoe69cjrtCl_"
   },
   "outputs": [],
   "source": [
    "#IMAGE RESHAPING IN STANDARD FORM\n",
    "images= np.transpose(images)\n",
    "images.shape\n",
    "im = np.reshape(images, [ 32, 32, 3, -1], order=\"F\")"
   ]
  },
  {
   "cell_type": "code",
   "execution_count": 4,
   "metadata": {
    "colab": {
     "base_uri": "https://localhost:8080/",
     "height": 283
    },
    "colab_type": "code",
    "id": "nFASk20Ghtms",
    "outputId": "9f80bb1e-3951-46b5-c0af-6f075b7db30a"
   },
   "outputs": [
    {
     "data": {
      "text/plain": [
       "<matplotlib.image.AxesImage at 0x7f5e7de3a978>"
      ]
     },
     "execution_count": 4,
     "metadata": {
      "tags": []
     },
     "output_type": "execute_result"
    },
    {
     "data": {
      "image/png": "[encoded data removed]",
      "text/plain": [
       "<Figure size 432x288 with 1 Axes>"
      ]
     },
     "metadata": {
      "tags": []
     },
     "output_type": "display_data"
    }
   ],
   "source": [
    "#Preprocessing the Test Image\n",
    "my_image=(cv2.imread(test_image))\n",
    "my_image=cv2.cvtColor(my_image, cv2.COLOR_RGB2BGR)\n",
    "my_image=cv2.resize(my_image,(32,32))\n",
    "plt.imshow(my_image)"
   ]
  },
  {
   "cell_type": "code",
   "execution_count": 5,
   "metadata": {
    "colab": {
     "base_uri": "https://localhost:8080/",
     "height": 71
    },
    "colab_type": "code",
    "id": "508IPJPPvzrc",
    "outputId": "0ea20abd-b508-4ba3-92f9-28f66674d729"
   },
   "outputs": [
    {
     "name": "stdout",
     "output_type": "stream",
     "text": [
      "[[0. 0. 0. 0. 0. 0. 0. 0. 0. 0.]]\n",
      "[array([array(['morgan freeman'], dtype='<U14')], dtype=object), array([array(['ahsan khan'], dtype='<U10')], dtype=object), array([array(['tom cruise'], dtype='<U10')], dtype=object), array([array(['sanam baloch'], dtype='<U12')], dtype=object), array([array(['meryl streep'], dtype='<U12')], dtype=object), array([array(['bilawal bhutto'], dtype='<U14')], dtype=object), array([array(['Viola Davis'], dtype='<U11')], dtype=object), array([array(['aishwarya rai'], dtype='<U13')], dtype=object), array([array(['fawad khan'], dtype='<U10')], dtype=object), array([array(['mahira khan'], dtype='<U11')], dtype=object)]\n"
     ]
    }
   ],
   "source": [
    "#MAKING VOTING ARRAY AS WELL AS 10 CLASS ARRAY\n",
    "label_names=[]\n",
    "xx=1\n",
    "while(xx<len(label)):\n",
    "  label_names.append(label[xx])\n",
    "  xx=xx+5\n",
    "Voting_Array=np.zeros((1,10))      #Will take the maximum of votes from this array at the end of program\n",
    "print(Voting_Array)\n",
    "print(label_names)"
   ]
  },
  {
   "cell_type": "code",
   "execution_count": 0,
   "metadata": {
    "colab": {},
    "colab_type": "code",
    "id": "8Ox01sOftCmM"
   },
   "outputs": [],
   "source": [
    "#Calculating the Euclidean Distances of test Image with each Image present in the data \n",
    "distance_values=[]\n",
    "my_image_vector = np.reshape(my_image,[-1], order=\"F\")\n",
    "\n",
    "\n",
    "    #Read your image here\n",
    "my_image=(cv2.imread(test_image))\n",
    "my_image=cv2.cvtColor(my_image, cv2.COLOR_RGB2BGR)\n",
    "   \n",
    "    #Resize your image\n",
    "my_image=cv2.resize(my_image,(32,32))\n",
    "    #Reshape your image as we reshape the image of dataset\n",
    "my_image_vector = np.reshape(my_image,[-1], order=\"F\")\n",
    "for i in range(50):\n",
    "        G = im[:,:,:,i]\n",
    "        G = np.reshape(G,[-1], order=\"F\")\n",
    "        #Calculate Eucleadian distance between your image and dataset \n",
    "        my_distance=np.sqrt(np.sum(np.square(G-my_image_vector)))\n",
    "        #my_distance=np.linalg.norm(G-my_image_vector)\n",
    "        distance_values.append(my_distance)\n",
    "    "
   ]
  },
  {
   "cell_type": "code",
   "execution_count": 7,
   "metadata": {
    "colab": {
     "base_uri": "https://localhost:8080/",
     "height": 334
    },
    "colab_type": "code",
    "id": "TfkmV88YtCmS",
    "outputId": "e3dd64f9-a6c5-4ab6-aa19-497a61f49c00"
   },
   "outputs": [
    {
     "name": "stdout",
     "output_type": "stream",
     "text": [
      "518.3377277412865\n",
      "FOR K=1 , THE INPUT PICTURE BEST RESEMBLES WITH THE Picture No 7  Of the Given Data Set\n",
      "[array(['ahsan khan'], dtype='<U10')]\n"
     ]
    },
    {
     "data": {
      "text/plain": [
       "<matplotlib.image.AxesImage at 0x7f5e7d913208>"
      ]
     },
     "execution_count": 7,
     "metadata": {
      "tags": []
     },
     "output_type": "execute_result"
    },
    {
     "data": {
      "image/png": "[encoded data removed]",
      "text/plain": [
       "<Figure size 432x288 with 1 Axes>"
      ]
     },
     "metadata": {
      "tags": []
     },
     "output_type": "display_data"
    }
   ],
   "source": [
    "# Write code for 1 NN\n",
    "#Find min distance\n",
    "#Fine at which point min value exists\n",
    "minimum_value_index=0;\n",
    "minpos = distance_values.index(min(distance_values)) \n",
    "minimum_value_index=minpos;\n",
    "print(min(distance_values))\n",
    "print('FOR K=1 , THE INPUT PICTURE BEST RESEMBLES WITH THE Picture No ' + str(minpos) + '  Of the Given Data Set')\n",
    "print( label[minpos])\n",
    "plt.imshow(im[:,:,:,minpos])"
   ]
  },
  {
   "cell_type": "code",
   "execution_count": 8,
   "metadata": {
    "colab": {
     "base_uri": "https://localhost:8080/",
     "height": 136
    },
    "colab_type": "code",
    "id": "scvK8Cu4tCmX",
    "outputId": "726766ac-ff79-44c2-e6c1-dc8f3d1b44ee"
   },
   "outputs": [
    {
     "name": "stdout",
     "output_type": "stream",
     "text": [
      "first minimum value is \n",
      "518.3377277412865\n",
      "first minimum value is \n",
      "538.385549583196\n",
      "first minimum value is \n",
      "539.0983212735873\n",
      "[[0. 1. 0. 0. 0. 1. 0. 0. 0. 1.]]\n"
     ]
    }
   ],
   "source": [
    "#3 NN\n",
    "#Write code for 3 NN\n",
    "#Find 3 min distances\n",
    "#Find their instances\n",
    "#hint: Use for Loop\n",
    "K=3\n",
    "smallest_distance_index=0\n",
    "#Voting_Array=np.zeros((1,10))       #Will take the maximum of votes from this array at the end of program\n",
    "temp_array=distance_values[:]          #Creating Temporay Array which is modifed again and again in the below loop\n",
    "\n",
    "for i in range(K):\n",
    "  \n",
    "  minpos = temp_array.index(min(temp_array))     #find smallest distance in the array\n",
    "  \n",
    "  if i==0:\n",
    "    smallest_distance_index=minpos\n",
    "  \n",
    "  label_name_in_current_loop=label[minpos]       #find name of actor from label array\n",
    "  voting_index = label_names.index(label_name_in_current_loop) # find index of that actor in label_names array (having 10 names only)\n",
    "  Voting_Array[0,voting_index]=Voting_Array[0,voting_index]+1   #add a vote to that actor as resembling to my image\n",
    "  \n",
    "  \n",
    "  print( 'In iteration' + str(i) '  minimum value is ')\n",
    "  print(min(temp_array))\n",
    "  temp_array[minpos]=max(temp_array)+1000\n",
    "  \n",
    "    \n",
    "\n",
    "print(Voting_Array)\n"
   ]
  },
  {
   "cell_type": "code",
   "execution_count": 9,
   "metadata": {
    "colab": {
     "base_uri": "https://localhost:8080/",
     "height": 317
    },
    "colab_type": "code",
    "id": "POg57OxXwydk",
    "outputId": "3f767caa-debb-431b-f28d-48df003e9ce9"
   },
   "outputs": [
    {
     "name": "stdout",
     "output_type": "stream",
     "text": [
      "Tie Has Occured using this value of K\n",
      "So the Closest Matching Picture with respect to Distance is Picture No 7  Of the Data Set\n",
      "[array(['ahsan khan'], dtype='<U10')]\n"
     ]
    },
    {
     "data": {
      "image/png": "[encoded data removed]",
      "text/plain": [
       "<Figure size 432x288 with 1 Axes>"
      ]
     },
     "metadata": {
      "tags": []
     },
     "output_type": "display_data"
    }
   ],
   "source": [
    "#Checking if We have Tie results or NOT\n",
    "Max_vote = np.amax((Voting_Array)) \n",
    "Max_vote_index=np.argmax(Voting_Array)\n",
    "Voting_Array[0,Max_vote_index]=0\n",
    "Max_vote2 = np.amax((Voting_Array))\n",
    "if Max_vote==Max_vote2:\n",
    "  print('Tie Has Occured using this value of K')\n",
    "  print('So the Closest Matching Picture with respect to Distance is Picture No ' + str(smallest_distance_index) + '  Of the Data Set')\n",
    "  plt.imshow(im[:,:,:,smallest_distance_index])\n",
    "  print(label[smallest_distance_index])\n",
    "else:\n",
    "  print('So the Closest Matching Picture with respect to Voting is Picture No ' + str(label_names[Max_vote_index]) + '  Of the Data Set')"
   ]
  },
  {
   "cell_type": "code",
   "execution_count": 10,
   "metadata": {
    "colab": {
     "base_uri": "https://localhost:8080/",
     "height": 204
    },
    "colab_type": "code",
    "id": "RG88O_6FtCml",
    "outputId": "b58dbc79-9a95-454a-dc36-ee5846229284"
   },
   "outputs": [
    {
     "name": "stdout",
     "output_type": "stream",
     "text": [
      "first minimum value is \n",
      "518.3377277412865\n",
      "first minimum value is \n",
      "538.385549583196\n",
      "first minimum value is \n",
      "539.0983212735873\n",
      "first minimum value is \n",
      "542.8075165286494\n",
      "first minimum value is \n",
      "550.7758164625603\n"
     ]
    },
    {
     "data": {
      "text/plain": [
       "array([[1., 1., 0., 0., 0., 1., 0., 0., 0., 2.]])"
      ]
     },
     "execution_count": 10,
     "metadata": {
      "tags": []
     },
     "output_type": "execute_result"
    }
   ],
   "source": [
    "#Write code for 5 NN\n",
    "#Find 5 min distances\n",
    "#Find their instances\n",
    "#hint: Use for Loop\n",
    "\n",
    "K=5\n",
    "Voting_Array=np.zeros((1,10))       #Will take the maximum of votes from this array at the end of program\n",
    "temp_array=distance_values[:]          #Creating Temporay Array which is modifed again and again in the below loop\n",
    "\n",
    "for i in range(K):\n",
    "  \n",
    "  minpos = temp_array.index(min(temp_array))     #find smallest distance in the array\n",
    "  label_name_in_current_loop=label[minpos]       #find name of actor from label array\n",
    "  voting_index = label_names.index(label_name_in_current_loop) # find index of that actor in label_names array (having 10 names only)\n",
    "  Voting_Array[0,voting_index]=Voting_Array[0,voting_index]+1   #add a vote to that actor as resembling to my image\n",
    "  \n",
    "\n",
    "  print('first minimum value is ')\n",
    "  print(min(temp_array))\n",
    "  temp_array[minpos]=max(temp_array)+1000\n",
    "Voting_Array"
   ]
  },
  {
   "cell_type": "code",
   "execution_count": 11,
   "metadata": {
    "colab": {
     "base_uri": "https://localhost:8080/",
     "height": 34
    },
    "colab_type": "code",
    "id": "ifLaXQZ-xwRM",
    "outputId": "7dd7f2cd-2952-4326-d8a5-88065d08d53b"
   },
   "outputs": [
    {
     "name": "stdout",
     "output_type": "stream",
     "text": [
      "So the Closest Matching Actor with respect to Voting is [array(['mahira khan'], dtype='<U11')]  Of the Data Set\n"
     ]
    }
   ],
   "source": [
    "#Checking if We have Tie results or NOT\n",
    "Max_vote = np.amax((Voting_Array)) \n",
    "Max_vote_index=np.argmax(Voting_Array)\n",
    "Voting_Array[0,Max_vote_index]=0\n",
    "Max_vote2 = np.amax((Voting_Array))\n",
    "if Max_vote==Max_vote2:\n",
    "  print('Tie Has Occured using this value of K')\n",
    "  print('So the Closest Matching Picture with respect to Distance is Picture No ' + str(smallest_distance_index) + '  Of the Data Set')\n",
    "  plt.imshow(im[:,:,:,smallest_distance_index])\n",
    "  print(label[smallest_distance_index])\n",
    "else:\n",
    "  print('So the Closest Matching Actor with respect to Voting is ' + str(label_names[Max_vote_index]) + '  Of the Data Set')\n"
   ]
  }
 ],
 "metadata": {
  "colab": {
   "collapsed_sections": [],
   "name": "Assignment_2.ipynb",
   "provenance": [],
   "toc_visible": true
  },
  "kernelspec": {
   "display_name": "Python 3",
   "language": "python",
   "name": "python3"
  },
  "language_info": {
   "codemirror_mode": {
    "name": "ipython",
    "version": 3
   },
   "file_extension": ".py",
   "mimetype": "text/x-python",
   "name": "python",
   "nbconvert_exporter": "python",
   "pygments_lexer": "ipython3",
   "version": "3.7.3"
  },
  "varInspector": {
   "cols": {
    "lenName": 16,
    "lenType": 16,
    "lenVar": 40
   },
   "kernels_config": {
    "python": {
     "delete_cmd_postfix": "",
     "delete_cmd_prefix": "del ",
     "library": "var_list.py",
     "varRefreshCmd": "print(var_dic_list())"
    },
    "r": {
     "delete_cmd_postfix": ") ",
     "delete_cmd_prefix": "rm(",
     "library": "var_list.r",
     "varRefreshCmd": "cat(var_dic_list()) "
    }
   },
   "oldHeight": 451,
   "position": {
    "height": "40px",
    "left": "1341px",
    "right": "20px",
    "top": "111px",
    "width": "258px"
   },
   "types_to_exclude": [
    "module",
    "function",
    "builtin_function_or_method",
    "instance",
    "_Feature"
   ],
   "varInspector_section_display": "none",
   "window_display": true
  }
 },
 "nbformat": 4,
 "nbformat_minor": 1
}
