{
 "cells": [
  {
   "cell_type": "code",
   "execution_count": 0,
   "metadata": {
    "colab": {},
    "colab_type": "code",
    "id": "Em2g3YFCh5rf"
   },
   "outputs": [],
   "source": [
    "#Write the code below every comment"
   ]
  },
  {
   "cell_type": "code",
   "execution_count": 1,
   "metadata": {
    "colab": {},
    "colab_type": "code",
    "id": "iX0yCCeAR9iI"
   },
   "outputs": [
    {
     "name": "stdout",
     "output_type": "stream",
     "text": [
      "The Third name of list using Positve Indexing is given as \n",
      "Sameer\n",
      "The Third name of list using Negative Indexing is given as \n",
      "Sameer\n"
     ]
    }
   ],
   "source": [
    "#Question # 1\n",
    "\n",
    "\n",
    "#Create a list which contain names of 5 students\n",
    "\n",
    "my_list=['Ali','Khattak','Sameer','Ted','Jonas']\n",
    "\n",
    "#Access the third name using positive and negative indexing\n",
    "\n",
    "\n",
    "print('The Third name of list using Positve Indexing is given as ')\n",
    "print(my_list[2])\n",
    "print('The Third name of list using Negative Indexing is given as ')\n",
    "print(my_list[-3])\n",
    "\n",
    "\n",
    "\n",
    "\n"
   ]
  },
  {
   "cell_type": "code",
   "execution_count": 2,
   "metadata": {
    "colab": {},
    "colab_type": "code",
    "id": "v7Bf0IsiSwvO"
   },
   "outputs": [
    {
     "name": "stdout",
     "output_type": "stream",
     "text": [
      "The Generated List is given as \n",
      "[2, 7, 5, 5, 8, 2, 1, 4, 5, 9]\n",
      "the list after modifying 1st and 6th element in the list is \n",
      "[0, 7, 5, 5, 8, 0, 1, 4, 5, 9]\n",
      "the list after Adding My name  in the list is \n",
      "[0, 7, 5, 5, 'Uzair', 0, 1, 4, 5, 9]\n",
      "The sorted List in Acending Order is Given as \n",
      "[0, 0, 1, 4, 5, 5, 5, 7, 9, 'Uzair']\n"
     ]
    }
   ],
   "source": [
    "#Question # 2 \n",
    "from random import randint\n",
    "#Create a list of random integers from 0 to 10 \n",
    "my_list=[]\n",
    "for i in range(0,10):\n",
    "    my_list.append(randint(0,10))\n",
    "\n",
    "print('The Generated List is given as ')\n",
    "print(my_list)\n",
    "\n",
    "#Change the 1st and 6th element in the list and replace with 0 and print it.\n",
    "\n",
    "my_list[0]=0\n",
    "my_list[5]=0\n",
    "print('the list after modifying 1st and 6th element in the list is ')\n",
    "print(my_list)\n",
    "\n",
    "#add your name at the 5th position and print it\n",
    "my_list[4]='Uzair'\n",
    "print('the list after Adding My name  in the list is ')\n",
    "print(my_list)\n",
    "\n",
    "\n",
    "#Sort the elements of the list in ascending order\n",
    "\n",
    "\n",
    "temp=[]\n",
    "position=[]\n",
    "#First Removing the strings in list , then sorting the integer list and\n",
    "#in last step appending strings at the end to list again.\n",
    "for i in range(0,len(my_list)):\n",
    "    if type(my_list[i])==str:\n",
    "        temp.append(my_list[i])\n",
    "        position.append(i)\n",
    "        \n",
    "\n",
    "\n",
    "for i in (position):\n",
    "    \n",
    "    del my_list[i]\n",
    "    \n",
    "my_list.sort()\n",
    "\n",
    "for i in range(len(temp)):\n",
    "    my_list.append(temp[i])\n",
    "print('The sorted List in Acending Order is Given as ')\n",
    "print(my_list)\n",
    "\n",
    "\n"
   ]
  },
  {
   "cell_type": "code",
   "execution_count": 3,
   "metadata": {
    "colab": {},
    "colab_type": "code",
    "id": "UTyEMMl2VpYP"
   },
   "outputs": [
    {
     "name": "stdout",
     "output_type": "stream",
     "text": [
      "1\n",
      "2\n",
      "4\n",
      "5\n",
      "6\n",
      "Printing the Array Using Negative Indexing\n",
      "1\n",
      "2\n",
      "4\n",
      "5\n",
      "6\n"
     ]
    }
   ],
   "source": [
    "#Question # 3\n",
    "\n",
    "#Create a 1D array containing 5 integer values\n",
    "import array as arr \n",
    "\n",
    "my_array=arr.array('i',[1,2,4,5,6])\n",
    "\n",
    "#Print each value of the array using \"for\" loop\n",
    "for i in range(len(my_array)):\n",
    "    \n",
    "    print(my_array[i])\n",
    "\n",
    "#Print element form beginning to 4th using neagtive indexing\n",
    "print('Printing the Array Using Negative Indexing' )\n",
    "for i in range(len(my_array), 0, -1):\n",
    "    neg=i*-1\n",
    "    print(my_array[neg])\n",
    "\n"
   ]
  },
  {
   "cell_type": "code",
   "execution_count": 11,
   "metadata": {
    "colab": {},
    "colab_type": "code",
    "id": "5TQhFKlYXuLU"
   },
   "outputs": [
    {
     "name": "stdout",
     "output_type": "stream",
     "text": [
      "[[[0 1 0]\n",
      "  [0 2 0]\n",
      "  [0 3 0]]\n",
      "\n",
      " [[1 2 3]\n",
      "  [4 5 6]\n",
      "  [7 8 9]]\n",
      "\n",
      " [[0 0 0]\n",
      "  [0 0 0]\n",
      "  [0 2 0]]]\n",
      "3rd row of the 3rd dimension\n",
      "[0 2 0]\n",
      "2nd Column in the first Dimension is given as \n",
      "[1 2 3]\n",
      "2nd Element of the 2nd row in the 2nd Dimension\n",
      "5\n",
      "[[[0 1 0]\n",
      "  [0 2 0]\n",
      "  [0 3 0]]\n",
      "\n",
      " [[1 2 3]\n",
      "  [4 5 6]\n",
      "  [7 8 9]]]\n",
      "Shape of the Given 3D Array is \n",
      "(3, 3, 3)\n"
     ]
    }
   ],
   "source": [
    "#Question # 4\n",
    "#A 3D array containing 1*2 elements in each dimension is given in example\n",
    "#Now Create a 3D array containing 3*3 elements in each dimension\n",
    "from numpy import array\n",
    "my_3d_array=array(\n",
    "                    [[[0, 1, 0], [0, 2, 0], [0, 3, 0]],\n",
    "                   \n",
    "                    [[1, 2, 3], [4, 5, 6], [7, 8, 9]],\n",
    "                   \n",
    "                    [[0, 0, 0], [0, 0, 0], [0, 2, 0]]]\n",
    "                 )\n",
    "\n",
    "print(my_3d_array)\n",
    "#Access 3rd row of the 3rd dimension\n",
    "print('3rd row of the 3rd dimension')\n",
    "print(my_3d_array[2][2])\n",
    "\n",
    "\n",
    "print('2nd Column in the first Dimension is given as ')\n",
    "print(my_3d_array[0,:,1])\n",
    "\n",
    "\n",
    "#Access 2nd Element of the 2nd row in the 2nd Dimension\n",
    "print('2nd Element of the 2nd row in the 2nd Dimension')\n",
    "print(my_3d_array[1][1][1])\n",
    "\n",
    "\n",
    "\n",
    "\n",
    "#Access Every row and every Column in the 1st and 2nd Dimension\n",
    "print(my_3d_array[0:2])\n",
    "\n",
    "\n",
    "#Print the dimension of the array using \"shape()\" command\n",
    "print('Shape of the Given 3D Array is ')\n",
    "print(my_3d_array.shape)\n",
    "\n",
    "\n",
    "\n",
    "\n",
    "\n"
   ]
  },
  {
   "cell_type": "code",
   "execution_count": 13,
   "metadata": {
    "colab": {},
    "colab_type": "code",
    "id": "MJ4vNrLEa0Lt"
   },
   "outputs": [
    {
     "name": "stdout",
     "output_type": "stream",
     "text": [
      "please enter the number -6\n",
      "the absolute value of given number is :\n",
      "6\n"
     ]
    }
   ],
   "source": [
    "#Question # 5\n",
    "#Create a function which returns the absolute value of the input number \n",
    "#Hint: Use if else statements\n",
    "def my_ftn(input_number):\n",
    "    \n",
    "    if input_number < 0:\n",
    "        return abs(input_number)\n",
    "    else:\n",
    "        return input_number\n",
    "    \n",
    "my_number=input('please enter the number ')\n",
    "print ('the absolute value of given number is :')\n",
    "print (my_ftn(int(my_number)))\n",
    "\n",
    "\n",
    "\n",
    "\n",
    "\n",
    "\n",
    "\n",
    "\n",
    "\n"
   ]
  },
  {
   "cell_type": "code",
   "execution_count": 14,
   "metadata": {
    "colab": {},
    "colab_type": "code",
    "id": "fQvIiOyOlfhN"
   },
   "outputs": [
    {
     "name": "stdout",
     "output_type": "stream",
     "text": [
      "please enter the number -50\n",
      "The given number is Negative\n"
     ]
    }
   ],
   "source": [
    "#Questions #6\n",
    "#Create a function with following chrachteritics\n",
    "# 1- Takes a number as an input and tell us weather the number is positive or negative\n",
    "# 2- If the number is positive but Zero it shows \"Number is Zero\" else \"Number is Positve\"\n",
    "\n",
    "def my_ftn(input_number):\n",
    "    \n",
    "    if input_number < 0:\n",
    "        print('The given number is Negative')\n",
    "    elif input_number>=0:\n",
    "        if input_number==0:\n",
    "            print('The given number is zero')\n",
    "        else:\n",
    "            print('The given number is Positive')\n",
    "        \n",
    "\n",
    "\n",
    "my_number=input('please enter the number ')\n",
    "\n",
    "my_ftn(int(my_number))\n"
   ]
  },
  {
   "cell_type": "code",
   "execution_count": 15,
   "metadata": {
    "colab": {},
    "colab_type": "code",
    "id": "v-_m3mtKByr8"
   },
   "outputs": [
    {
     "data": {
      "image/png": "[encoded data removed]",
      "text/plain": [
       "<Figure size 432x288 with 1 Axes>"
      ]
     },
     "metadata": {
      "needs_background": "light"
     },
     "output_type": "display_data"
    }
   ],
   "source": [
    "#Question: 6\n",
    "#Now its time to learn that how we can visulaize our data using python. Values for x and y coordinates are given below. You have to plot these values\n",
    "#Hint: A library known as matplotlib is used in python to plot data. Import that library and pass the given x and y coordinates to plot.\n",
    "\n",
    "x=[1, 2, 3, 4]\n",
    "y=[1, 4, 9, 16]\n",
    "\n",
    "import matplotlib.pyplot as plt \n",
    "\n",
    "plt.plot(x,y)\n",
    "plt.show()\n",
    "\n"
   ]
  },
  {
   "cell_type": "code",
   "execution_count": 9,
   "metadata": {
    "colab": {},
    "colab_type": "code",
    "id": "vSUp6x9DDaXG"
   },
   "outputs": [
    {
     "data": {
      "text/plain": [
       "<matplotlib.collections.PathCollection at 0x280ad99ea20>"
      ]
     },
     "execution_count": 9,
     "metadata": {},
     "output_type": "execute_result"
    },
    {
     "data": {
      "image/png": "[encoded data removed]",
      "text/plain": [
       "<Figure size 432x288 with 3 Axes>"
      ]
     },
     "metadata": {
      "needs_background": "light"
     },
     "output_type": "display_data"
    }
   ],
   "source": [
    "#Question: 7\n",
    "#Following is the data given of three students and their final exam marks in stochastic systems.\n",
    "#We want to visualize the given data using ,simple plot,bar plot and scatter plot\n",
    "#We want all these plots in one figure\n",
    "#Hint: Use subplot to plot all in figure. \n",
    "\n",
    "names = ['Saad', 'Sharukh', 'Shahzain']\n",
    "values = [40, 35, 30]\n",
    "\n",
    "plt.subplot(131)\n",
    "\n",
    "plt.plot(names,values)\n",
    "plt.subplot(132)\n",
    "plt.bar(names,values)\n",
    "plt.subplot(133)\n",
    "plt.scatter(names,values)"
   ]
  },
  {
   "cell_type": "code",
   "execution_count": 203,
   "metadata": {
    "colab": {},
    "colab_type": "code",
    "id": "5BNynhywFmZb"
   },
   "outputs": [],
   "source": [
    "plt.subplot??"
   ]
  },
  {
   "cell_type": "code",
   "execution_count": null,
   "metadata": {},
   "outputs": [],
   "source": []
  }
 ],
 "metadata": {
  "colab": {
   "collapsed_sections": [],
   "name": "python.ipynb",
   "provenance": []
  },
  "kernelspec": {
   "display_name": "Python 3",
   "language": "python",
   "name": "python3"
  },
  "language_info": {
   "codemirror_mode": {
    "name": "ipython",
    "version": 3
   },
   "file_extension": ".py",
   "mimetype": "text/x-python",
   "name": "python",
   "nbconvert_exporter": "python",
   "pygments_lexer": "ipython3",
   "version": "3.7.3"
  }
 },
 "nbformat": 4,
 "nbformat_minor": 1
}
