{
 "cells": [
  {
   "cell_type": "code",
   "execution_count": 1,
   "metadata": {
    "colab": {
     "base_uri": "https://localhost:8080/",
     "height": 122
    },
    "colab_type": "code",
    "id": "Em2g3YFCh5rf",
    "outputId": "d4b74365-b055-4cc9-ce2c-5f418609bea6"
   },
   "outputs": [],
   "source": [
    "## Machine Learning Online Class - Exercise 1: Linear Regression\n",
    "\n",
    "#  Instructions\n",
    "#  ------------\n",
    "# \n",
    "#  This file contains code that helps you get started on the\n",
    "#  linear exercise. You will need to complete the following functions \n",
    "#  in this exericse:\n",
    "#\n",
    "#   \n",
    "#     PART#02\n",
    "#         OPTIMIZATION FUNCTIONS\n",
    "#         LEARNING RATE\n",
    "#\n",
    "#\n",
    "#  For this exercise, you will not need to change any code in this file,\n",
    "#  or any other files other than those mentioned above.\n",
    "#\n",
    "# X refers to the population size in 10,000s\n",
    "# Y refers to the profit in $10,000s\n",
    "\t\n",
    "\n",
    "#Write the code below every comment\n",
    "import numpy as np\n",
    "# from google.colab import drive, files\n",
    "# drive.mount('/content/drive/')\n",
    "# path = \"/content/drive/My Drive/ex1data1.txt\""
   ]
  },
  {
   "cell_type": "code",
   "execution_count": 2,
   "metadata": {
    "colab": {
     "base_uri": "https://localhost:8080/",
     "height": 231
    },
    "colab_type": "code",
    "id": "FZzMQQo2rGCF",
    "outputId": "a49888c3-ef4f-40cd-9681-f5ae310b57ed"
   },
   "outputs": [
    {
     "name": "stdout",
     "output_type": "stream",
     "text": [
      "Optimization terminated successfully.\n",
      "         Current function value: 4.476971\n",
      "         Iterations: 6\n",
      "         Function evaluations: 14\n",
      "         Gradient evaluations: 14\n",
      "Optimization terminated successfully.\n",
      "         Current function value: 4.476971\n",
      "         Iterations: 90\n",
      "         Function evaluations: 172\n"
     ]
    },
    {
     "data": {
      "text/plain": [
       "<Figure size 640x480 with 1 Axes>"
      ]
     },
     "metadata": {},
     "output_type": "display_data"
    },
    {
     "name": "stdout",
     "output_type": "stream",
     "text": [
      "[-3.89582548  1.19303812]\n"
     ]
    }
   ],
   "source": [
    "import matplotlib.pyplot as plt\n",
    "\n",
    "# used for manipulating directory paths\n",
    "import os\n",
    "\n",
    "from pylab import *\n",
    "from numpy import *\n",
    "from numpy.random import normal\n",
    "from scipy.optimize import fmin_cg\n",
    "\n",
    "\n",
    "# Read comma separated data\n",
    "data = np.loadtxt(r'C:\\Users\\mkhat\\Downloads\\assignment#03\\ASSIGN#03\\ex1data1.txt',delimiter=',')\n",
    "X, Y = data[:, 0], data[:, 1]\n",
    "\n",
    "\n",
    "args = (X,Y)  # parameter values\n",
    "m=len(X)\n",
    "al=1\n",
    "lr2=[]\n",
    "\n",
    "#--------  COST FUNCTION-------------\n",
    "def J(t,x,y):\n",
    "  theta=t\n",
    "  #============YOUR COST FUNCTION CODE HERE====\n",
    "  J=0\n",
    "      \n",
    "  h= np.dot(X, theta)\n",
    "  # ==========YOUR COST FUNCTION J HERE============\n",
    "  J=(1/(2*m))*(np.sum(np.square(h-y)))\n",
    "  #=====================================\n",
    "  lr2.append(J)\n",
    "  return J\n",
    "\n",
    "\n",
    "# -----------GRADIENT ONLY FUNCTION-----------\n",
    "def gradf(t, *args):\n",
    "  theta =t\n",
    "  #===============GRADIENT ONLY CODE HERE\n",
    "  h= np.dot(X, theta)\n",
    "  temp=((h-Y))\n",
    "  xx=temp*X[:,0]\n",
    "  yy=temp*X[:,1]\n",
    "  xx=xx.reshape(-1,1)\n",
    "  yy=yy.reshape(-1,1)\n",
    "\n",
    "  final=np.concatenate((xx,yy),axis=1)\n",
    "# print(final.shape)\n",
    "  derivatives=(1/m)*np.sum(final,axis=0)\n",
    "  theta=derivatives  \n",
    "\n",
    " #======================================\n",
    "#   lr2.append(J)\n",
    "  return theta\n",
    "X = np.stack([np.ones(m), X], axis=1)\n",
    "x0 = [0,0]  # Initial guess.\n",
    "from scipy import optimize\n",
    "\n",
    "res1 = optimize.fmin_cg(J, x0, fprime=gradf,args=args)\n",
    "lr1=lr2\n",
    "lr2=[]\n",
    "res2 = optimize.fmin(J, x0, args=args)\n",
    "\n",
    "\n",
    "\n",
    "plot(X[:,1],Y,'rx', X[:,1],np.dot(X, res1),'r', X[:,1], np.dot(X, res2),'b-.')\n",
    "plt.ylabel('Profit in $10,000s'); # Set the y ? axis label\n",
    "plt.xlabel('Population of City in 10,000s'); # Set the x ? axis label\n",
    "plt.legend([ 'Training data','fmin_cg','fmin']);\n",
    "plt.show()\n",
    "print(res1)"
   ]
  },
  {
   "cell_type": "code",
   "execution_count": 3,
   "metadata": {
    "colab": {
     "base_uri": "https://localhost:8080/",
     "height": 307
    },
    "colab_type": "code",
    "id": "tQUhdcGDrXIt",
    "outputId": "ef69e71e-06a9-4b02-d7ee-a9b133742ae2"
   },
   "outputs": [
    {
     "name": "stderr",
     "output_type": "stream",
     "text": [
      "No handles with labels found to put in legend.\n"
     ]
    },
    {
     "data": {
      "image/png": "[encoded data removed]",
      "text/plain": [
       "<Figure size 432x288 with 2 Axes>"
      ]
     },
     "metadata": {
      "needs_background": "light"
     },
     "output_type": "display_data"
    }
   ],
   "source": [
    "# plot learning rates of fmin and fmin_cg\n",
    "xx = linspace(0,25,len(lr1))\n",
    "xy = linspace(0,25,len(lr2))\n",
    "plt.subplot(2,1,1)\n",
    "\n",
    "plt.legend()   \n",
    "plt.plot( xx,lr1,'r',label='fmin_cg') # (lr1) learning rate 1 of fmin_cg\n",
    "plt.legend()\n",
    "plt.subplot(2,1,2)\n",
    "plt.plot( xy,lr2,'r',label='fmin')  # (lr2)  learning rate 1 of fmin_cg\n",
    "plt.ylabel('COST'); # Set the y  axis label\n",
    "plt.xlabel('ITERATIONS'); # Set the x  axis label \n",
    "plt.legend() \n",
    "show()"
   ]
  },
  {
   "cell_type": "code",
   "execution_count": null,
   "metadata": {},
   "outputs": [],
   "source": []
  },
  {
   "cell_type": "code",
   "execution_count": null,
   "metadata": {},
   "outputs": [],
   "source": []
  },
  {
   "cell_type": "code",
   "execution_count": null,
   "metadata": {},
   "outputs": [],
   "source": []
  }
 ],
 "metadata": {
  "colab": {
   "collapsed_sections": [],
   "name": "ex1P2.ipynb",
   "provenance": []
  },
  "kernelspec": {
   "display_name": "Python 3",
   "language": "python",
   "name": "python3"
  },
  "language_info": {
   "codemirror_mode": {
    "name": "ipython",
    "version": 3
   },
   "file_extension": ".py",
   "mimetype": "text/x-python",
   "name": "python",
   "nbconvert_exporter": "python",
   "pygments_lexer": "ipython3",
   "version": "3.7.3"
  }
 },
 "nbformat": 4,
 "nbformat_minor": 1
}
